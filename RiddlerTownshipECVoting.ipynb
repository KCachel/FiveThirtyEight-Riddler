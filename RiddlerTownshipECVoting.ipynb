{
 "cells": [
  {
   "cell_type": "markdown",
   "metadata": {
    "colab_type": "text",
    "id": "DzDC-NL3eV6L"
   },
   "source": [
    "# Electoral College voting problem\n",
    "[Riddler Express](https://https://fivethirtyeight.com/features/are-you-a-pinball-wizard/), July 24, 2020\n",
    "\n",
    "\n",
    "\n",
    ">Riddler Township is having its quadrennial presidential election. Each of the town’s 10 “shires” is allotted a certain number of electoral votes: two, plus one additional vote for every 10 citizens (rounded to the nearest 10).  \n",
    ">The names and populations of the 10 shires are summarized in the table below.\n",
    ">Which way will Riddler Township swing?\n",
    "!<img src=\"riddlertownship.png\" width = \"400\"/>)\n",
    ">As you may know, under this sort of electoral system, it is quite possible for a presidential candidate to lose the popular vote and still win the election.  \n",
    ">If there are two candidates running for president of Riddler Township, and every single citizen votes for one or the other, then what is the lowest percentage of the popular vote that a candidate can get while still winning the election?\n",
    "\n",
    "## How should we solve this?\n",
    "We will use integer optimization to solve the LP. In essence, we seek to minimize the popular vote while ensuring an electoral college victory. Since Riddler Township has a total of 75 electoral votes we know in order to win our candidate must have at least 38 electoral votes. Conveniently, each shire is a \"winner take all\" electoral shire (the majority popular vote candidate gets all the electoral votes).\n",
    "\n",
    "For a given shire we define the following variables: \n",
    "\n",
    "*   `lose_ub` is the upper bound on the number of popular votes guaranteeing a loss in a given shire.\n",
    "*   `win_lb` is the lower bound on the number of popular votes guaranteeing a win in a given shire. \n",
    "\n",
    "We have an objective function and constraints emerging. \n",
    "\n",
    "## Formulating the Integer Linear Program\n",
    "We have $N$ shires. Define:\n",
    "\n",
    "The number of popular votes in Shire $i$ for our candidate.\n",
    "\n",
    "$$\n",
    "\\begin{equation*}\n",
    "\\ v_{i} \\text{ for $i$...$N$}\\\\\n",
    "\\end{equation*}\n",
    "$$\n",
    "\n",
    "For every Shire $i$:\n",
    "$$\n",
    "  \\begin{equation}\n",
    "    x_{i}=\n",
    "    \\begin{cases}\n",
    "      1, & \\text{if shire $i$ is a win}\\\\\n",
    "      0, & \\text{if shire $i$ is a loss}\n",
    "    \\end{cases}\n",
    "  \\end{equation}\n",
    "$$\n",
    "\n",
    "Our object is to minimize the popular votes:\n",
    "$$\n",
    "\\begin{equation*}\n",
    "\\sum_{i=1}^{N} v_{i} \n",
    "\\end{equation*}\n",
    "$$\n",
    "\n",
    "The first constraint is that the popular votes, in shire $i$ for our candidate cannot exceed the population of shire $i$(given in the table), and must be non-negative.  \n",
    " $$0 \\leq v_{i} \\leq pop_{i} \\text{    for $i$...$N$}$$   \n",
    "\n",
    "\n",
    "Our candidate must also win the electoral vote (get at least 38 ec votes). $e_{i}$ is the number of electoral votes for shire $i$ (given in the table).\n",
    "$$\n",
    "\\begin{equation*}\n",
    "\\sum_{i=1}^{N} e_{i}x_{i} \\geq 38\n",
    "\\end{equation*}\n",
    "$$\n",
    "\n",
    "Next we must add constraints which represent mapping of popular votes to electoral wins or losses:\n",
    "\n",
    "\n",
    "*   (a.) **If our candidate wins the popular vote, then they get the electoral votes** or if $v_{i}$ $\\geq$ `win_lb`, then $x_{1} = 1$\n",
    "\n",
    "\n",
    "* (b.)  **If our candidate loses the popular vote, then they do not get the electoral votes** or if $v_{i}$ $\\leq$ `lose_ub`, then $x_{1} = 0$\n",
    "\n",
    "Both (a.) and (b.) are logic statements, and must be converted to constraints. (a.) is of the form if $a^Tx \\geq b$ then $z$ = $1$, which becomes $a^Tx - b \\leq Mz - (1-z)$ and (b.) is of the form if $a^Tx \\leq b$ then $z$ = $0$, which becomes $a^Tx - b \\geq m(1-z) + z$, where $M$ and $m$ are the upper and lower bound of $a^Tx-b$. \n",
    "\n",
    "With some simplification we get:  \n",
    "(a.) the constraint representing a loss  \n",
    "*   $ v_{i} \\geq $ `win_lb` $x_{i}$ for $i$...$N$\n",
    "\n",
    "(b.) the constraint representing a win  \n",
    "*   $ v_{i} \\leq $ `win_lb` $x_{i} + $ `loss_ub` for $i$...$N$\n",
    "\n",
    "\n",
    "\n",
    "\n",
    "\n",
    "\n",
    "\n",
    "\n",
    "\n",
    "\n",
    "\n"
   ]
  },
  {
   "cell_type": "code",
   "execution_count": 1,
   "metadata": {
    "colab": {
     "base_uri": "https://localhost:8080/",
     "height": 326
    },
    "colab_type": "code",
    "id": "ZwtjXouEeThL",
    "outputId": "37a8601d-2c53-4c65-da2c-b46f3d5d7ecc"
   },
   "outputs": [],
   "source": [
    "# Import PuLP modeler functions\n",
    "\n",
    "from pulp import *"
   ]
  },
  {
   "cell_type": "code",
   "execution_count": 2,
   "metadata": {
    "colab": {},
    "colab_type": "code",
    "id": "yoLHcWlFe8fU"
   },
   "outputs": [],
   "source": [
    "#Create the 'prob' variable to contain the problem data\n",
    "prob = LpProblem(\"Riddler_Township_EC\", LpMinimize)"
   ]
  },
  {
   "cell_type": "code",
   "execution_count": 3,
   "metadata": {
    "colab": {},
    "colab_type": "code",
    "id": "7druf_IKfPxS"
   },
   "outputs": [],
   "source": [
    "pop = [11,21,31,41,51,61,71,81,91,101] #population for shire i\n",
    "e = [3,4,5,6,7,8,9,10,11,12] #electoral votes for shire i\n",
    "lose_ub = [(val-1)/2 for val in pop] #upper bound for losing popular vote for shire i\n",
    "win_lb = [val+1 for val in lose_ub] #lower bound for winnig popular vote for shire i"
   ]
  },
  {
   "cell_type": "code",
   "execution_count": 4,
   "metadata": {
    "colab": {},
    "colab_type": "code",
    "id": "1h5jxg-YhBac"
   },
   "outputs": [],
   "source": [
    "#Create the variable Xi using list comp so we get x_1... x_10\n",
    "x = LpVariable.dicts(\"x\",[val for val in range (1,11)],0,1,LpInteger)\n",
    "#Create the variable Xi using list comp so we get v_1... v_10\n",
    "v = LpVariable.dicts(\"v\",[val for val in range (1,11)],0,None,LpInteger)"
   ]
  },
  {
   "cell_type": "code",
   "execution_count": 5,
   "metadata": {
    "colab": {},
    "colab_type": "code",
    "id": "O1LfwetAneFp"
   },
   "outputs": [],
   "source": [
    "#Add the objective function\n",
    "prob += lpSum(v[i] for i in range(1,11))"
   ]
  },
  {
   "cell_type": "code",
   "execution_count": 6,
   "metadata": {
    "colab": {},
    "colab_type": "code",
    "id": "2S7eEXjdhle6"
   },
   "outputs": [],
   "source": [
    "# Add constraints\n",
    "\n",
    "#constraint for v that the number of votes in each shire be capped at population of shire\n",
    "for i in range(0,10):\n",
    "  prob += v[i+1] <= pop[i]\n",
    "\n",
    "#constraint that our candidate must win\n",
    "prob += lpSum(x[i]*e[i-1] for i in range(1,11)) >= 38\n",
    "\n",
    "#logical constraint for winning (a.)\n",
    "for i in range(0,10):\n",
    "  prob += v[i+1] <= win_lb[i]*x[i+1] +lose_ub[i]\n",
    "\n",
    "#logical constraint for losing (b.)\n",
    "for i in range(0,10):\n",
    "  prob += v[i+1] >= win_lb[i]*x[i+1]\n",
    "\n",
    "\n"
   ]
  },
  {
   "cell_type": "code",
   "execution_count": 7,
   "metadata": {
    "colab": {
     "base_uri": "https://localhost:8080/",
     "height": 34
    },
    "colab_type": "code",
    "id": "B51yfx5WrxL1",
    "outputId": "955ee07c-1421-4442-b874-f6b1042c6620"
   },
   "outputs": [
    {
     "data": {
      "text/plain": [
       "1"
      ]
     },
     "execution_count": 7,
     "metadata": {
      "tags": []
     },
     "output_type": "execute_result"
    }
   ],
   "source": [
    "prob.solve()"
   ]
  },
  {
   "cell_type": "code",
   "execution_count": 8,
   "metadata": {
    "colab": {
     "base_uri": "https://localhost:8080/",
     "height": 357
    },
    "colab_type": "code",
    "id": "illeAaUXrz9B",
    "outputId": "f70bf334-65fc-4f7a-8745-2db975d53b3d"
   },
   "outputs": [
    {
     "name": "stdout",
     "output_type": "stream",
     "text": [
      "v_1 = 6.0\n",
      "v_10 = 0.0\n",
      "v_2 = 11.0\n",
      "v_3 = 16.0\n",
      "v_4 = 21.0\n",
      "v_5 = 0.0\n",
      "v_6 = 0.0\n",
      "v_7 = 36.0\n",
      "v_8 = 0.0\n",
      "v_9 = 46.0\n",
      "x_1 = 1.0\n",
      "x_10 = 0.0\n",
      "x_2 = 1.0\n",
      "x_3 = 1.0\n",
      "x_4 = 1.0\n",
      "x_5 = 0.0\n",
      "x_6 = 0.0\n",
      "x_7 = 1.0\n",
      "x_8 = 0.0\n",
      "x_9 = 1.0\n"
     ]
    }
   ],
   "source": [
    "#Print the variables\n",
    "for v in prob.variables():\n",
    "  print(v.name, \"=\", v.varValue)"
   ]
  },
  {
   "cell_type": "markdown",
   "metadata": {
    "colab_type": "text",
    "id": "GFDtYO-42eV9"
   },
   "source": [
    "We have a total of **136 popular votes** and **38 electoral votes** representing **24%** of the population."
   ]
  }
 ],
 "metadata": {
  "colab": {
   "name": "RiddlerTownshipECVoting.ipynb",
   "provenance": [],
   "toc_visible": true
  },
  "kernelspec": {
   "display_name": "Python 3",
   "language": "python",
   "name": "python3"
  },
  "language_info": {
   "codemirror_mode": {
    "name": "ipython",
    "version": 3
   },
   "file_extension": ".py",
   "mimetype": "text/x-python",
   "name": "python",
   "nbconvert_exporter": "python",
   "pygments_lexer": "ipython3",
   "version": "3.8.3"
  }
 },
 "nbformat": 4,
 "nbformat_minor": 1
}
