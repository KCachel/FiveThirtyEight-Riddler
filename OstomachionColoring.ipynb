{
 "cells": [
  {
   "cell_type": "markdown",
   "metadata": {},
   "source": [
    "# January 28, 2018 Riddler Classic solved using optimization"
   ]
  },
  {
   "attachments": {},
   "cell_type": "markdown",
   "metadata": {},
   "source": [
    "## The Ostomachion Coloring Problem\n",
    "\n",
    "[Riddler Classic](https://fivethirtyeight.com/features/how-often-does-the-senate-vote-in-palindromes/)\n",
    "\n",
    ">From Josh Streeter, graph theory meets ancient Greece in a puzzle that takes two classic mathematical ideas and mashes them together:\n",
    ">\n",
    ">The famous four-color theorem states, essentially, that you can color in the regions of any map using at most four colors in such a way that no neighboring regions share a color. A computer-based proof of the theorem was offered in 1976.\n",
    ">\n",
    ">Some 2,200 years earlier, the legendary Greek mathematician Archimedes described something called an Ostomachion. It’s a group of pieces, similar to tangrams, that divides a 12-by-12 square into 14 regions. The object is to rearrange the pieces into interesting shapes, such as a Tyrannosaurus rex. It’s often called the oldest known mathematical puzzle.\n",
    ">\n",
    ">Your challenge today: Color in the regions of the Ostomachion square with four colors such that each color shades an equal area. (That is, each color needs to shade 36 square units.)\n",
    "><div>\n",
    "<img src=\"ostomachionOriginal.png\" width=\"300\"/>\n",
    "</div>\n"
   ]
  },
  {
   "cell_type": "markdown",
   "metadata": {},
   "source": [
    "Below the ostomachion square has been marked up with shape numbers (1 through 14) in black and the area of each shape is written on it. Going forward the shapes will be known as numbered in this diagram."
   ]
  },
  {
   "attachments": {},
   "cell_type": "markdown",
   "metadata": {},
   "source": [
    "\n",
    "<div>\n",
    "<img src=\"ostomachion.png\" width=\"400\"/>\n",
    "</div>"
   ]
  },
  {
   "cell_type": "markdown",
   "metadata": {},
   "source": [
    "### Formulating the model\n",
    "\n",
    "Our model has 54 variables for all 14 shapes and the 4 potential colors (red, yellow, green, and blue). These variables are represented by:\n",
    "\n",
    "$$\n",
    "  \\begin{equation}\n",
    "    x_{i j}=\n",
    "    \\begin{cases}\n",
    "      1, & \\text{if shape i is colored using color j}\\\\\n",
    "      0, & \\text{otherwise}\n",
    "    \\end{cases}\n",
    "  \\end{equation}\n",
    "$$\n",
    "\n",
    "Our first constraint is that each shape must be assigned to one color. This is represented as:\n",
    "\n",
    "$$\n",
    "\\begin{equation}\n",
    "\\sum_{j=1}^4 x_{i j} = 1 \\text {  for shape = i within [1,14]}\n",
    "\\end{equation}\n",
    "$$\n",
    "\n",
    "The second constraint is that each color must have an equal amount of the total area. The total area is 144. This is represented as:\n",
    "\n",
    "$$\n",
    "\\begin{equation*}\n",
    "\\text {for } a_{i} \\text {  equal to area of shape i} \\\\\n",
    "\\sum_{i=1}^{14} a_{i}x_{i j} = 36 \\text {  for color = j within [1,4]} \n",
    "\\end{equation*}\n",
    "$$ \n",
    "\n",
    "The last constraint is shapes that share an edge must have different colors. This is represented by:\n",
    "\n",
    "$$\n",
    "\\begin{equation*}\n",
    "\\ x_{aj} + x_{bj} \\leq 1 \\text {  for all edges (a,b) and for color = j within [1,4]}\n",
    "\\end{equation*}\n",
    "$$\n",
    "\n",
    "Our objective is to minimize:\n",
    "$$\n",
    "\\begin{equation*}\n",
    "\\sum_{i=1}^{14}\\sum_{j=1}^{4} x_{i j}\n",
    "\\end{equation*}\n",
    "$$"
   ]
  },
  {
   "cell_type": "markdown",
   "metadata": {},
   "source": [
    "### Solving the model using PuLP\n",
    "First we create lists for the shape numbers, shape areas, colors and tuples of edges."
   ]
  },
  {
   "cell_type": "code",
   "execution_count": 1,
   "metadata": {},
   "outputs": [],
   "source": [
    "shapes = [1,2,3,4,5,6,7,8,9,10,11,12,13,14]\n",
    "shapeAreas = [12,12,6,12,24,12,3,6,6,9,3,6,21,12]\n",
    "edges = ((1,2),(1,6),(2,3),(2,6),(3,4),(3,13),(4,5),(4,8),(4,9),(5,11),(6,7),(6,12),(6,13),(7,12),(7,13),(8,13),(8,14),(9,10),(9,14),(10,11))\n",
    "colors = [\"red\", \"yellow\", \"green\" ,\"blue\"]"
   ]
  },
  {
   "cell_type": "code",
   "execution_count": 2,
   "metadata": {},
   "outputs": [],
   "source": [
    "from pulp import *"
   ]
  },
  {
   "cell_type": "code",
   "execution_count": 3,
   "metadata": {},
   "outputs": [],
   "source": [
    "#Create the prob variable to contain the problem data\n",
    "prob = LpProblem(\"Ostomachion Coloring\", LpMinimize)"
   ]
  },
  {
   "cell_type": "markdown",
   "metadata": {},
   "source": [
    "We create 56 problem variables since we have a variable for each combination of shape (1 - 14) and color (4 choices). An example variable is Shape_1_yellow and a value of 1 indicates that shape number 1 is colored yellow."
   ]
  },
  {
   "cell_type": "code",
   "execution_count": 4,
   "metadata": {},
   "outputs": [],
   "source": [
    "#Create the decision variable Xij\n",
    "\n",
    "choices = LpVariable.dicts(\"Shape\", (shapes, colors),0,1,LpInteger)"
   ]
  },
  {
   "cell_type": "code",
   "execution_count": 5,
   "metadata": {},
   "outputs": [],
   "source": [
    "#create a list of tuples containing all possible shape and colors\n",
    "coloredShapes = [(i,j) for i in shapes for j in colors]"
   ]
  },
  {
   "cell_type": "markdown",
   "metadata": {},
   "source": [
    "We add the objective function to the prob variable:\n",
    "\\begin{equation*}\n",
    "\\sum_{i=1}^{14}\\sum_{j=1}^{4} x_{i j}\n",
    "\\end{equation*}\n"
   ]
  },
  {
   "cell_type": "code",
   "execution_count": 6,
   "metadata": {},
   "outputs": [],
   "source": [
    "#Try an objective function\n",
    "prob += lpSum(choices[shape][color] for (shape, color) in coloredShapes), \"Objective\""
   ]
  },
  {
   "cell_type": "markdown",
   "metadata": {},
   "source": [
    "We add the constraint ensuring each shape is assigned only one color:\n",
    "\\begin{equation*}\n",
    "\\sum_{j=1}^4 x_{i j} = 1 \\text {  for shape = i within [1,14]}\n",
    "\\end{equation*}"
   ]
  },
  {
   "cell_type": "code",
   "execution_count": 7,
   "metadata": {},
   "outputs": [],
   "source": [
    "#Create a constraint ensuring that each shape is assigned to only one color\n",
    "for shape in shapes:\n",
    "    prob += lpSum(choices[shape][color] for color in colors) == 1, \"\""
   ]
  },
  {
   "cell_type": "markdown",
   "metadata": {},
   "source": [
    "We add the constraint that each color has an equal amount of area:\n",
    "\n",
    "\\begin{equation*}\n",
    "\\text {for } a_{i} \\text {  equal to area of shape i} \\\\\n",
    "\\sum_{i=1}^{14} a_{i}x_{i j} = 36 \\text {  for color = j within [1,4]} \n",
    "\\end{equation*}\n"
   ]
  },
  {
   "cell_type": "code",
   "execution_count": 8,
   "metadata": {},
   "outputs": [],
   "source": [
    "#Create a constraint ensuring that each color represents an equal amount of total area\n",
    "for color in colors:\n",
    "    prob += lpSum(shapeAreas[(shape-1)]*choices[shape][color] for shape in shapes) == 36, \"\""
   ]
  },
  {
   "cell_type": "markdown",
   "metadata": {},
   "source": [
    "We add the constraint that each pair of shapes that share an edge must have two different colors. If shapes a and b are neighbors they share an edge (a,b).\n",
    "\n",
    "\\begin{equation*}\n",
    "\\ x_{aj} + x_{bj} \\leq 1 \\text {  for all edges (a,b)and for color = j within [1,4]}\n",
    "\\end{equation*}"
   ]
  },
  {
   "cell_type": "code",
   "execution_count": 9,
   "metadata": {},
   "outputs": [],
   "source": [
    "#Create a constraint so that two neighboring (shapes that share an edge) do not have the same\n",
    "for edge in edges:\n",
    "    prob += lpSum(choices[edge[0]][color] + choices[edge[1]][color] for color in colors) <= 1, \"\""
   ]
  },
  {
   "cell_type": "markdown",
   "metadata": {},
   "source": [
    "Start the problem with an intial color. Here we set set shape 1 to have color red."
   ]
  },
  {
   "cell_type": "code",
   "execution_count": 10,
   "metadata": {},
   "outputs": [],
   "source": [
    "#Create a constraint that shape 1 is red\n",
    "prob += choices[shapes[0]][colors[0]] == 1, \"\""
   ]
  },
  {
   "cell_type": "markdown",
   "metadata": {},
   "source": [
    "Write the problem out"
   ]
  },
  {
   "cell_type": "code",
   "execution_count": 11,
   "metadata": {},
   "outputs": [],
   "source": [
    "prob.writeLP(\"Ostomachion.lp\")"
   ]
  },
  {
   "cell_type": "markdown",
   "metadata": {},
   "source": [
    "This is where we notice the solver is not working, and the problem has been deemed infeasible."
   ]
  },
  {
   "cell_type": "code",
   "execution_count": 12,
   "metadata": {},
   "outputs": [
    {
     "data": {
      "text/plain": [
       "-1"
      ]
     },
     "execution_count": 12,
     "metadata": {},
     "output_type": "execute_result"
    }
   ],
   "source": [
    "#The problem is solved using PuLP's choice of solver\n",
    "prob.solve()"
   ]
  },
  {
   "cell_type": "code",
   "execution_count": 13,
   "metadata": {},
   "outputs": [
    {
     "name": "stdout",
     "output_type": "stream",
     "text": [
      "Status: Infeasible\n"
     ]
    }
   ],
   "source": [
    "#The status is printed\n",
    "print(\"Status:\", LpStatus[prob.status])"
   ]
  },
  {
   "cell_type": "code",
   "execution_count": null,
   "metadata": {},
   "outputs": [],
   "source": []
  }
 ],
 "metadata": {
  "kernelspec": {
   "display_name": "Python 3",
   "language": "python",
   "name": "python3"
  },
  "language_info": {
   "codemirror_mode": {
    "name": "ipython",
    "version": 3
   },
   "file_extension": ".py",
   "mimetype": "text/x-python",
   "name": "python",
   "nbconvert_exporter": "python",
   "pygments_lexer": "ipython3",
   "version": "3.7.1"
  }
 },
 "nbformat": 4,
 "nbformat_minor": 2
}
